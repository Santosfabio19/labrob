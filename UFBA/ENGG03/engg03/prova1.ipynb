{
  "cells": [
    {
      "cell_type": "markdown",
      "metadata": {
        "id": "raMvjSSwkHeN"
      },
      "source": [
        "# Avaliação 01 - ENGG03\n",
        "\n",
        "## Questão adaptada de [Galan et al. 2004](https://doi.org/10.1016/j.jprocont.2003.10.003)\n",
        "\n",
        "Em um reator de neutralização, uma solução ácida (HCl) com vazão volumétrica $F_a = 1$ L/min e concentração inicial $C_{1,\\text{in}} = 0.0012$ mol HCl/L é neutralizada por uma solução alcalina (NaOH + NaHCO3) com vazão $F_b = 0.82$ L/min e concentrações iniciais $C_{2,\\text{in}} = 0.002$ mol NaOH/L e $C_{3,\\text{in}} = 0.0025$ mol NaHCO3/L.\n",
        "O comportamento dinâmico das concentrações dentro do reator, representado pelas variáveis $x_1$, $x_2$ e $x_3$, pode ser descrito pelo seguinte sistema de equações diferenciais:\n",
        "\\begin{align}\n",
        "\\frac{dx_1}{dt} &= \\frac{Fa\\cdot(C_{1,\\text{in}}-x_1) - Fb\\cdot x_1}{V}\\\\\n",
        "\\frac{dx_2}{dt} &= \\frac{Fb\\cdot(C_{2,\\text{in}}-x_2) - Fa\\cdot x_2}{V}\\\\\n",
        "\\frac{dx_3}{dt} &= \\frac{Fb\\cdot(C_{3,\\text{in}}-x_3) - Fa\\cdot x_3}{V}\n",
        "\\end{align}\n",
        "\n",
        "Além disso, é possível determinar o pH da solução a partir do seguinte sistema de equações algébricas:\n",
        "\n",
        "\\begin{align*}\n",
        "\\text{pH} &= -\\log_{10}(\\xi) \\\\\n",
        "\\xi &= x_1 + \\frac{K_e}{\\xi} + \\frac{K_e\\cdot x_3}{K_e + K_d\\cdot\\xi} - x_2 - x_3\n",
        "\\end{align*}\n",
        "na qual $K_e = 1\\times 10^{-4}$ (mol/L)$^2$ e $K_d = 1\\times 10^{-7}$ mol/L\n",
        "\n",
        "A partir das informações dada, pede-se:\n",
        "\n",
        "1.   No estado estacionário, as concentrações não variam com o tempo. Portanto, calcule os valores das concentrações $x_1$, $x_2$ e $x_3$ e o pH nessas condições.\n",
        "2.   Assumindo a razão $u = \\frac{F_b}{F_a}$, avalie o comportamento do pH para um intervalo de valores de $u$ no intervalo $[0,1]$.\n",
        "\n",
        "  2.1. Dica: Utilize uma variação mínima de $\\Delta u = 0.05$.\n",
        "\n",
        "  2.2. Dica: Construa um gráfico de pH em função de $u$.\n",
        "\n",
        "OBS: Comente seu código de maneira clara e objetiva deixando em evidência para que serve/objetivo de cada função, biblioteca e variáveis utilizadas."
      ]
    },
    {
      "cell_type": "markdown",
      "metadata": {},
      "source": [
        "## Solução dos problemas\n",
        "#### Por Silas Henrique Alves Araújo, Ecília Silva de Oliveira e ..."
      ]
    },
    {
      "cell_type": "markdown",
      "metadata": {},
      "source": [
        "### Concentrações no estado estacionário:"
      ]
    },
    {
      "cell_type": "code",
      "execution_count": 1,
      "metadata": {},
      "outputs": [
        {
          "name": "stdout",
          "output_type": "stream",
          "text": [
            "Concentrações no estado estacionário:\n",
            "- Concentração de HCL: 0.0006593406593406593 mol/L\n",
            "- Concentração de NaOH: 0.0009010989010989011 mol/L\n",
            "- Concentração de NaHCO3: 0.0011263736263736263 mol/L\n"
          ]
        }
      ],
      "source": [
        "from scipy.optimize import fsolve\n",
        "import numpy as np\n",
        "\n",
        "\n",
        "def concentrações(u):\n",
        "    # Definindo as Constantes\n",
        "    Fa = 1.0  # L/min (HCl)\n",
        "    Fb = Fa * u  # L/min (NaOH + NaHCO3)\n",
        "\n",
        "    C1in = 0.0012  # mol HCl/L\n",
        "    C2in = 0.002  # mol NaOH/L\n",
        "    C3in = 0.0025  # mol NaHCO3/L\n",
        "\n",
        "    # Criando a matriz dos coeficientes\n",
        "    A = np.array(\n",
        "        [\n",
        "            [Fa + Fb, 0, 0],\n",
        "            [0, Fb + Fa, 0],\n",
        "            [0, 0, Fb + Fa],\n",
        "        ]\n",
        "    )\n",
        "\n",
        "    # Criando o vetor das constantes\n",
        "    b = np.array([[Fa * C1in], [Fb * C2in], [Fb * C3in]])\n",
        "\n",
        "    # Resolvendo o sistema linear\n",
        "    sol = np.linalg.solve(A, b)\n",
        "\n",
        "    return [sol[0, 0], sol[1, 0], sol[2, 0]]\n",
        "\n",
        "\n",
        "X = concentrações(0.82)\n",
        "\n",
        "# Imprimindo os resultados\n",
        "print(\"Concentrações no estado estacionário:\")\n",
        "print(\"- Concentração de HCL:\", X[0], \"mol/L\")\n",
        "print(\"- Concentração de NaOH:\", X[1], \"mol/L\")\n",
        "print(\"- Concentração de NaHCO3:\", X[2], \"mol/L\")"
      ]
    },
    {
      "cell_type": "markdown",
      "metadata": {},
      "source": [
        "### pH no estado estacionário:"
      ]
    },
    {
      "cell_type": "code",
      "execution_count": 2,
      "metadata": {},
      "outputs": [
        {
          "name": "stdout",
          "output_type": "stream",
          "text": [
            "pH no estado estacionário: 2.0052498273101382\n",
            "Teste da solução do sistema: [0.00000000e+00 5.11569953e-15]\n"
          ]
        }
      ],
      "source": [
        "def pH_equations(V, X):\n",
        "    # Variáveis\n",
        "    pH = V[0]\n",
        "    Csi = V[1]\n",
        "\n",
        "    # Constantes\n",
        "    x1 = X[0]\n",
        "    x2 = X[1]\n",
        "    x3 = X[2]\n",
        "    Ke = 1e-4  # (mol/L)^2\n",
        "    Kd = 1e-7  # mol/L\n",
        "\n",
        "    # Equações\n",
        "    e1 = pH + np.log10(Csi)\n",
        "    e2 = x1 + (Ke / Csi) + ((Ke * x3) / (Ke + Kd * Csi)) - x2 - x3 - Csi\n",
        "\n",
        "    return np.array([e1, e2])\n",
        "\n",
        "\n",
        "# \"Chute\" inicial, talvez o pH final seja 7, afinal é um tanque neutralizador\n",
        "Y0 = np.array([7, 1e-7])\n",
        "Y = fsolve(pH_equations, Y0, args=(X,))  # Resolve o sistema\n",
        "print(\"pH no estado estacionário:\", Y[0])\n",
        "print(\"Teste da solução do sistema:\", pH_equations(Y, X))"
      ]
    },
    {
      "cell_type": "markdown",
      "metadata": {},
      "source": [
        "### Gráfico de pH em função de $u$"
      ]
    },
    {
      "cell_type": "markdown",
      "metadata": {},
      "source": [
        "Para poder avaliar o comportamento do pH quando razão $u = \\frac{F_b}{F_a}$ varia no intervalo $[0,1]$, será necessário colocar toda a lógica anterior dentro de uma função de u, para poder ser chamada varias vezes. E com esses valores desenhar um gráfico utilizando a biblioteca matplotlib."
      ]
    },
    {
      "cell_type": "code",
      "execution_count": 3,
      "metadata": {},
      "outputs": [
        {
          "data": {
            "image/png": "[encoded data removed]",
            "text/plain": [
              "<Figure size 640x480 with 1 Axes>"
            ]
          },
          "metadata": {},
          "output_type": "display_data"
        }
      ],
      "source": [
        "import matplotlib.pyplot as plt\n",
        "\n",
        "\n",
        "def pH(u):\n",
        "    X = concentrações(u)\n",
        "\n",
        "    Y0 = np.array([7, 1e-7])\n",
        "    Y = fsolve(pH_equations, Y0, args=(X,))\n",
        "    return Y[0]\n",
        "\n",
        "\n",
        "# Calcula os pontos\n",
        "X_gráfico = np.linspace(0, 1, 21)  # Começo, Fim, número de pontos (1/0.05 + 1 = 21)\n",
        "Y_gráfico = [pH(u) for u in X_gráfico]\n",
        "\n",
        "# Plota o gráfico\n",
        "fig, ax = plt.subplots()\n",
        "\n",
        "ax.plot(X_gráfico, Y_gráfico)\n",
        "ax.set(xlabel=\"$u$\", ylabel=\"pH\", title=\"Gráfico de pH em função de $u$\")\n",
        "\n",
        "plt.show()"
      ]
    },
    {
      "cell_type": "markdown",
      "metadata": {},
      "source": [
        "Pelo gráfico é possível perceber que quanto maior a vazão da solução alcalina (NaOH + NaHCO3), em comparação com a vazão da solução ácida de HCl, maior o pH da mistura final."
      ]
    }
  ],
  "metadata": {
    "colab": {
      "provenance": []
    },
    "kernelspec": {
      "display_name": "Python 3",
      "name": "python3"
    },
    "language_info": {
      "codemirror_mode": {
        "name": "ipython",
        "version": 3
      },
      "file_extension": ".py",
      "mimetype": "text/x-python",
      "name": "python",
      "nbconvert_exporter": "python",
      "pygments_lexer": "ipython3",
      "version": "3.11.8"
    }
  },
  "nbformat": 4,
  "nbformat_minor": 0
}
