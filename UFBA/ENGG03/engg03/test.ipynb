{
 "cells": [
  {
   "cell_type": "code",
   "execution_count": 12,
   "metadata": {},
   "outputs": [
    {
     "data": {
      "text/latex": [
       "$\\displaystyle - \\frac{2 \\log{\\left(8.10810810810811 \\cdot 10^{-5} + \\frac{0.000182638211382114}{\\sqrt{x}} \\right)}}{\\log{\\left(10 \\right)}} - \\frac{1}{\\sqrt{x}}$"
      ],
      "text/plain": [
       "-2*log(8.10810810810811e-5 + 0.000182638211382114/sqrt(x))/log(10) - 1/sqrt(x)"
      ]
     },
     "execution_count": 12,
     "metadata": {},
     "output_type": "execute_result"
    }
   ],
   "source": [
    "import sympy as sp\n",
    "x: sp.Symbol = sp.symbols(\"x\")\n",
    "\n",
    "rho = 1.23\n",
    "mu = 1.79e-5\n",
    "D = 0.005\n",
    "epsilon = 1.5e-6\n",
    "v = 40\n",
    "Re = (rho * v * D) / mu\n",
    "\n",
    "(-2 * sp.log((epsilon / (3.7 * D)) + (2.51 / (Re * sp.sqrt(x))), 10) - (\n",
    "    1 / sp.sqrt(x)\n",
    "))"
   ]
  }
 ],
 "metadata": {
  "kernelspec": {
   "display_name": ".venv",
   "language": "python",
   "name": "python3"
  },
  "language_info": {
   "codemirror_mode": {
    "name": "ipython",
    "version": 3
   },
   "file_extension": ".py",
   "mimetype": "text/x-python",
   "name": "python",
   "nbconvert_exporter": "python",
   "pygments_lexer": "ipython3",
   "version": "3.11.8"
  }
 },
 "nbformat": 4,
 "nbformat_minor": 2
}
