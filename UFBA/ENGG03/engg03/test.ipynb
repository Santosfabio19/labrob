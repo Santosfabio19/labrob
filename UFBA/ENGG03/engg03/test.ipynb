{
 "cells": [
  {
   "cell_type": "code",
   "execution_count": 13,
   "metadata": {},
   "outputs": [
    {
     "data": {
      "text/latex": [
       "$\\displaystyle e^{0.005 x} \\cos{\\left(2.23606797749979 \\sqrt{1 - 5.0 \\cdot 10^{-6} x^{2}} \\right)}$"
      ],
      "text/plain": [
       "exp(0.005*x)*cos(2.23606797749979*sqrt(1 - 5.0e-6*x**2))"
      ]
     },
     "execution_count": 13,
     "metadata": {},
     "output_type": "execute_result"
    }
   ],
   "source": [
    "import sympy as sp\n",
    "\n",
    "x: sp.Symbol = sp.symbols(\"x\")\n",
    "q0 = 1\n",
    "t = 0.05\n",
    "C = 10**-4\n",
    "L = 5\n",
    "\n",
    "from sympy.plotting import plot\n",
    "\n",
    "(\n",
    "    q0\n",
    "    * sp.exp((x * t) / (2 * L))\n",
    "    * sp.cos(t * sp.sqrt((1 / (L * C)) - (x / (2 * L))**2 ))\n",
    ")\n"
   ]
  }
 ],
 "metadata": {
  "kernelspec": {
   "display_name": ".venv",
   "language": "python",
   "name": "python3"
  },
  "language_info": {
   "codemirror_mode": {
    "name": "ipython",
    "version": 3
   },
   "file_extension": ".py",
   "mimetype": "text/x-python",
   "name": "python",
   "nbconvert_exporter": "python",
   "pygments_lexer": "ipython3",
   "version": "3.11.8"
  }
 },
 "nbformat": 4,
 "nbformat_minor": 2
}
