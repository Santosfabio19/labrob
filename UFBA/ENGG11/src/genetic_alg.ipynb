{
  "cells": [
    {
      "cell_type": "markdown",
      "metadata": {},
      "source": [
        "# Lendo dados experimentais\n"
      ]
    },
    {
      "cell_type": "code",
      "execution_count": null,
      "metadata": {},
      "outputs": [],
      "source": [
        "import numpy as np\n",
        "import pandas as pd\n",
        "\n",
        "from plot import plot_tanks\n",
        "\n",
        "exp_data = pd.read_csv(\"../dados.csv\")\n",
        "\n",
        "F_exp = exp_data[\"vazao\"].to_numpy() * 2\n",
        "h1_exp = np.clip(exp_data[\"h1\"].to_numpy(), 0.0, None)\n",
        "h2_exp = np.clip(exp_data[\"h2\"].to_numpy(), 0.0, None)\n",
        "t = np.arange(len(F_exp))\n",
        "\n",
        "print(exp_data.head())\n",
        "\n",
        "plot_tanks(t, [F_exp, h1_exp, h2_exp], [\"F (exp)\", \"h1 (exp)\", \"h2 (exp)\"])\n"
      ]
    },
    {
      "cell_type": "markdown",
      "metadata": {
        "id": "qz8TRcyISnGf"
      },
      "source": [
        "# Definindo sistema\n"
      ]
    },
    {
      "cell_type": "code",
      "execution_count": 2,
      "metadata": {
        "id": "5EjVoNWVQPJe"
      },
      "outputs": [],
      "source": [
        "import numpy as np\n",
        "from scipy.integrate import solve_ivp\n",
        "\n",
        "from typings import Bounds\n",
        "\n",
        "\n",
        "def F(t: float | int):\n",
        "    return F_exp[int(t)]\n",
        "\n",
        "\n",
        "def edo(t, Y, cv1, cv2):\n",
        "    # Constantes\n",
        "    a2 = 10 * 15  # cm^2\n",
        "    a1 = np.pi * (11 / 2) ** 2  # cm^2\n",
        "    # a2 = 160.0\n",
        "    # a1 = 95.03\n",
        "\n",
        "    # Dependent variables\n",
        "    h2, h1 = Y[0], Y[1]\n",
        "\n",
        "    # Tanks limits\n",
        "    h2 = np.where(h2 < 0.0, 0.0, h2)\n",
        "    h1 = np.where(h1 < 0.0, 0.0, h1)\n",
        "\n",
        "    # Equations\n",
        "    dh2dt = (F(t) / a2) - ((cv2 * np.sqrt(h2)) / a2)\n",
        "    dh1dt = ((cv2 * np.sqrt(h2)) / a1) - ((cv1 * np.sqrt(h1)) / a1)\n",
        "    return [dh2dt, dh1dt]\n",
        "\n",
        "\n",
        "def simulate(c1, c2):\n",
        "    sol = solve_ivp(\n",
        "        edo,\n",
        "        [t[0], t[-1]],\n",
        "        [h1_exp[0], h2_exp[0]],\n",
        "        t_eval=t,\n",
        "        method=\"RK45\",\n",
        "        args=(c1, c2),\n",
        "    )\n",
        "    return sol.y\n",
        "\n",
        "\n",
        "bounds: Bounds = [(0, 8), (0, 8)]  # Limites para Cv1 e Cv2\n"
      ]
    },
    {
      "cell_type": "markdown",
      "metadata": {
        "id": "V3D6A1asiIQ9"
      },
      "source": [
        "# Definindo função objetivo\n"
      ]
    },
    {
      "cell_type": "code",
      "execution_count": 3,
      "metadata": {
        "id": "yb5CAbgyZG2u"
      },
      "outputs": [],
      "source": [
        "import concurrent.futures\n",
        "\n",
        "\n",
        "def loss(C):\n",
        "    c1, c2 = C\n",
        "    h2_sim, h1_sim = simulate(c1, c2)\n",
        "    total_loss = np.mean(np.square(h1_exp - h1_sim)) + np.mean(\n",
        "        np.square(h2_exp - h2_sim)\n",
        "    )\n",
        "\n",
        "    # print(f\"c1: {c1}, c2: {c2}, loss: {total_loss}\")\n",
        "    return total_loss\n",
        "\n",
        "\n",
        "# Visualizando a função objetivo\n",
        "c1_vals = np.linspace(bounds[0][0], bounds[0][1], 200)  # Intervalo de valores para c1\n",
        "c2_vals = np.linspace(bounds[1][0], bounds[1][1], 200)  # Intervalo de valores para c2\n",
        "C1, C2 = np.meshgrid(c1_vals, c2_vals)\n",
        "\n",
        "# Calculando em paralelo os valores para maior velocidade\n",
        "combinations = [\n",
        "    (C1[i, j], C2[i, j]) for i in range(C1.shape[0]) for j in range(C1.shape[1])\n",
        "]\n",
        "Z = np.zeros_like(C1)\n",
        "\n",
        "with concurrent.futures.ProcessPoolExecutor() as executor:\n",
        "    results = list(executor.map(loss, combinations))\n",
        "\n",
        "for idx, result in enumerate(results):\n",
        "    i, j = divmod(idx, C1.shape[1])\n",
        "    Z[i, j] = result\n"
      ]
    },
    {
      "cell_type": "code",
      "execution_count": null,
      "metadata": {},
      "outputs": [],
      "source": [
        "from plot import plot_space\n",
        "\n",
        "# Plotando o gráfico\n",
        "plot_space(C1, C2, Z, None, \"objetive_function.png\")\n"
      ]
    },
    {
      "cell_type": "markdown",
      "metadata": {},
      "source": [
        "# Implementação do algorítimo genético clássico\n"
      ]
    },
    {
      "cell_type": "code",
      "execution_count": null,
      "metadata": {},
      "outputs": [],
      "source": [
        "from genetic_utils import crossover, initialize_population, mutate, tournament_selection\n",
        "from typings import GA_params, Population\n",
        "\n",
        "# Fixando seed\n",
        "np.random.seed(42)\n",
        "\n",
        "\n",
        "# Função de avaliação do fitness (quanto menor o valor da função, melhor)\n",
        "def fitness(individual):\n",
        "    x, y = individual\n",
        "    return -loss([x, y])  # Negativo porque estamos minimizando\n",
        "\n",
        "\n",
        "# Algoritmo Genético\n",
        "def genetic_algorithm(params: GA_params, fitness_func):\n",
        "    # Inicializar a população\n",
        "    population = initialize_population(params, fitness_func)\n",
        "    plot_space(C1, C2, Z, population, \"generation_0.png\")\n",
        "    best_individual = max(population, key=lambda ind: ind[\"fitness\"])\n",
        "\n",
        "    for generation in range(params[\"num_generations\"]):\n",
        "        new_population: Population = []\n",
        "\n",
        "        while len(new_population) < params[\"pop_size\"]:\n",
        "            # Selecionar pais\n",
        "            parent1 = tournament_selection(population)\n",
        "            parent2 = tournament_selection(population)\n",
        "\n",
        "            # Realizar crossover\n",
        "            child1, child2 = crossover(parent1, parent2, fitness_func, params)\n",
        "\n",
        "            # Realizar mutação\n",
        "            child1 = mutate(child1, fitness_func, params)\n",
        "            child2 = mutate(child2, fitness_func, params)\n",
        "\n",
        "            # Adicionar filhos à nova população\n",
        "            new_population.append(child1)\n",
        "            if len(new_population) < params[\"pop_size\"]:\n",
        "                new_population.append(child2)\n",
        "\n",
        "        population = new_population\n",
        "        best_new_individual = max(population, key=lambda ind: ind[\"fitness\"])\n",
        "        if best_individual[\"fitness\"] < best_new_individual[\"fitness\"]:\n",
        "            best_individual = best_new_individual\n",
        "\n",
        "        plot_space(C1, C2, Z, population, f\"generation_{generation + 1}.png\")\n",
        "        print(\n",
        "            f\"Geração {generation + 1}: Melhor solução = {best_individual['chromosome']}, Melhor fitness = {-best_individual['fitness']}\"\n",
        "        )\n",
        "\n",
        "    return best_individual\n",
        "\n",
        "\n",
        "# Definir os parâmetros do algoritmo\n",
        "genetic_alg_params: GA_params = {\n",
        "    \"pop_size\": 50,\n",
        "    \"num_generations\": 25,\n",
        "    \"bounds\": bounds,\n",
        "    \"mutation_rate\": 0.1,\n",
        "    \"mutation_strength\": 0.1,\n",
        "    \"crossover_rate\": 0.8,\n",
        "}\n",
        "\n",
        "# Executar o algoritmo genético\n",
        "best_individual = genetic_algorithm(genetic_alg_params, fitness)\n",
        "\n",
        "print(f\"Melhor solução encontrada: {best_individual[\"chromosome\"]}\")\n",
        "print(f\"Valor da função objetivo na melhor solução: {-best_individual['fitness']}\")\n"
      ]
    },
    {
      "cell_type": "code",
      "execution_count": null,
      "metadata": {},
      "outputs": [],
      "source": [
        "cv1_salomão = 3.582\n",
        "cv2_salomão = 2.869\n",
        "\n",
        "h2_opt, h1_opt = simulate(\n",
        "    best_individual[\"chromosome\"][0], best_individual[\"chromosome\"][1]\n",
        ")\n",
        "h2_chute, h1_chute = simulate(8, 0.5)\n",
        "# h2_opt, h1_opt = simulate(cv1_salomão, cv2_salomão)\n",
        "\n",
        "plot_tanks(\n",
        "    t,\n",
        "    [h1_exp, h2_exp, h1_opt, h2_opt],\n",
        "    [\n",
        "        \"h1 (dados experimentais)\",\n",
        "        \"h2 (dados experimentais)\",\n",
        "        \"h1 (simulação após otimização)\",\n",
        "        \"h2 (simulação após otimização)\",\n",
        "    ],\n",
        "    \"tanks_opt.png\",\n",
        ")\n",
        "\n",
        "plot_tanks(\n",
        "    t,\n",
        "    [h1_exp, h2_exp, h2_chute, h2_opt],\n",
        "    [\n",
        "        \"h1 (dados experimentais)\",\n",
        "        \"h2 (dados experimentais)\",\n",
        "        \"h1 (simulação antes da otimização)\",\n",
        "        \"h2 (simulação antes da otimização)\",\n",
        "    ],\n",
        "    \"tanks_chute.png\",\n",
        ")\n"
      ]
    }
  ],
  "metadata": {
    "colab": {
      "provenance": []
    },
    "kernelspec": {
      "display_name": ".venv",
      "language": "python",
      "name": "python3"
    },
    "language_info": {
      "codemirror_mode": {
        "name": "ipython",
        "version": 3
      },
      "file_extension": ".py",
      "mimetype": "text/x-python",
      "name": "python",
      "nbconvert_exporter": "python",
      "pygments_lexer": "ipython3",
      "version": "3.13.0"
    }
  },
  "nbformat": 4,
  "nbformat_minor": 0
}
